{
  "cells": [
    {
      "cell_type": "code",
      "execution_count": null,
      "metadata": {
        "id": "lS2vyN3gmTYB"
      },
      "outputs": [],
      "source": [
        "import tensorflow as tf\n",
        "import numpy as np\n",
        "from tensorflow.keras.models import Sequential\n",
        "from tensorflow.keras.layers import Dense, Dropout, Flatten, Conv2D, MaxPooling2D"
      ]
    },
    {
      "cell_type": "code",
      "execution_count": null,
      "metadata": {
        "id": "5Vvv__gHmTYC"
      },
      "outputs": [],
      "source": [
        "from keras.datasets import mnist\n",
        "(train_images, train_labels), (test_images, test_labels) = mnist.load_data() # Load data"
      ]
    },
    {
      "cell_type": "code",
      "execution_count": null,
      "metadata": {
        "id": "c0xM6NmlmTYC"
      },
      "outputs": [],
      "source": [
        "train_images = train_images.reshape((60000,28,28,1)) # BATCH SIZE, HEIGHT, WIDTH, CHANNELS\n",
        "train_images = train_images.astype('float32')/255 # NORMALIZE DATA TO 0-1 RANGE (GREYSCALE)\n",
        "\n",
        "test_images = test_images.reshape((10000,28,28,1))\n",
        "test_images = test_images.astype('float32')/255"
      ]
    },
    {
      "cell_type": "code",
      "execution_count": null,
      "metadata": {
        "id": "iOI0P7i5mTYC"
      },
      "outputs": [],
      "source": [
        "from tensorflow.keras.utils import to_categorical\n",
        "\n",
        "train_labels = to_categorical(train_labels) # ONE-HOT ENCODE LABELS\n",
        "test_labels = to_categorical(test_labels)"
      ]
    },
    {
      "cell_type": "code",
      "execution_count": null,
      "metadata": {
        "id": "-KSpJWFWmTYC"
      },
      "outputs": [],
      "source": [
        "INPUT_SHAPE = (28,28,1) # HEIGHT, WIDTH, CHANNELS"
      ]
    },
    {
      "cell_type": "code",
      "execution_count": null,
      "metadata": {
        "id": "lMH83PusmTYC"
      },
      "outputs": [],
      "source": [
        "# TEST METRICS:\n",
        "\n",
        "# model.evaluate(test_images, test_labels)"
      ]
    }
  ],
  "metadata": {
    "kernelspec": {
      "display_name": "Python 3",
      "language": "python",
      "name": "python3"
    },
    "language_info": {
      "codemirror_mode": {
        "name": "ipython",
        "version": 3
      },
      "file_extension": ".py",
      "mimetype": "text/x-python",
      "name": "python",
      "nbconvert_exporter": "python",
      "pygments_lexer": "ipython3",
      "version": "3.11.5"
    },
    "orig_nbformat": 4,
    "colab": {
      "provenance": []
    }
  },
  "nbformat": 4,
  "nbformat_minor": 0
}