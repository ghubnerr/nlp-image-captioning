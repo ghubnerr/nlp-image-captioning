{
  "cells": [
    {
      "cell_type": "markdown",
      "source": [
        "# New Section"
      ],
      "metadata": {
        "id": "BxKwl9YeFTKf"
      }
    },
    {
      "cell_type": "code",
      "execution_count": 1,
      "metadata": {
        "id": "mck3VLNYFOpM"
      },
      "outputs": [],
      "source": [
        "from keras.datasets import mnist\n",
        "(train_images, train_labels), (test_images, test_labels) = mnist.load_data() # Load data"
      ]
    },
    {
      "cell_type": "code",
      "execution_count": 2,
      "metadata": {
        "id": "-Sz7KKjyFOpM"
      },
      "outputs": [],
      "source": [
        "train_images = train_images.reshape((60000 , 28, 28, 1)) # BATCH SIZE, HEIGHT, WIDTH, CHANNELS\n",
        "train_images = train_images.astype('float32')/255 # NORMALIZE DATA TO 0-1 RANGE (GREYSCALE)\n",
        "\n",
        "test_images = test_images.reshape((10000,28,28,1))\n",
        "test_images = test_images.astype('float32')/255"
      ]
    },
    {
      "cell_type": "code",
      "execution_count": 3,
      "metadata": {
        "id": "J7k46Kf_FOpN"
      },
      "outputs": [],
      "source": [
        "from tensorflow.keras.utils import to_categorical\n",
        "\n",
        "train_labels = to_categorical(train_labels) # ONE-HOT ENCODE LABELS\n",
        "test_labels = to_categorical(test_labels)"
      ]
    },
    {
      "cell_type": "code",
      "execution_count": 4,
      "metadata": {
        "id": "9wkKHPTJFOpN"
      },
      "outputs": [],
      "source": [
        "INPUT_SHAPE = (28,28,1) # HEIGHT, WIDTH, CHANNELS"
      ]
    },
    {
      "cell_type": "code",
      "source": [
        "import tensorflow as tf\n",
        "model = tf.keras.models.Sequential([\n",
        "    tf.keras.layers.Conv2D(64, (3,3), activation = 'relu',\n",
        "                           input_shape=(28, 28, 1)),\n",
        "    tf.keras.layers.MaxPooling2D(2,2),\n",
        "    tf.keras.layers.Conv2D(64, (3,3), activation = 'relu'),\n",
        "    tf.keras.layers.MaxPooling2D(2,2),\n",
        "    tf.keras.layers.Flatten(),\n",
        "    tf.keras.layers.Dense(128, activation = 'relu'),\n",
        "    tf.keras.layers.Dense(10, activation= 'softmax')\n",
        "])\n",
        "model.compile()"
      ],
      "metadata": {
        "id": "KrSkfyK0F3gg"
      },
      "execution_count": 5,
      "outputs": []
    },
    {
      "cell_type": "code",
      "execution_count": 8,
      "metadata": {
        "colab": {
          "base_uri": "https://localhost:8080/",
          "height": 140
        },
        "id": "wtNVWiU5FOpN",
        "outputId": "c09ae329-396a-497f-cc14-71d6d1731101"
      },
      "outputs": [
        {
          "output_type": "error",
          "ename": "IndentationError",
          "evalue": "ignored",
          "traceback": [
            "\u001b[0;36m  File \u001b[0;32m\"<ipython-input-8-86e1a1d3f7aa>\"\u001b[0;36m, line \u001b[0;32m9\u001b[0m\n\u001b[0;31m    model.evaluate(test_images, test_labels)\u001b[0m\n\u001b[0m    ^\u001b[0m\n\u001b[0;31mIndentationError\u001b[0m\u001b[0;31m:\u001b[0m unexpected indent\n"
          ]
        }
      ],
      "source": [
        "model = Sequential()\n",
        "model.add(Conv2D(32, (3,3), activation = \"relu\", input_shape = INPUT_SHAPE))\n",
        "model.add(MaxPooling2D((2,2)))\n",
        "model.add(Flatten())\n",
        "model.add(Dense(10,activation = \"softmax\"))\n",
        "\n",
        "\n",
        "\n",
        "\n",
        ""
      ]
    },
    {
      "cell_type": "code",
      "source": [
        "model.compile(optimizer = \"rmsprop\" , loss = 'categorical_crossentropy', metrics = [\"accuracy\"])\n",
        "model.fit(train_images, train_labels, batch_size = 64, epochs = 7)\n"
      ],
      "metadata": {
        "colab": {
          "base_uri": "https://localhost:8080/"
        },
        "id": "7cK0pyycIqSf",
        "outputId": "6dfb0540-c5f3-4a0d-8190-7d2a7f17a60c"
      },
      "execution_count": 6,
      "outputs": [
        {
          "output_type": "stream",
          "name": "stdout",
          "text": [
            "Epoch 1/7\n",
            "938/938 [==============================] - 90s 94ms/step - loss: 0.1440 - accuracy: 0.9549\n",
            "Epoch 2/7\n",
            "938/938 [==============================] - 81s 87ms/step - loss: 0.0423 - accuracy: 0.9869\n",
            "Epoch 3/7\n",
            "938/938 [==============================] - 81s 87ms/step - loss: 0.0281 - accuracy: 0.9912\n",
            "Epoch 4/7\n",
            "938/938 [==============================] - 82s 87ms/step - loss: 0.0195 - accuracy: 0.9940\n",
            "Epoch 5/7\n",
            "938/938 [==============================] - 81s 87ms/step - loss: 0.0146 - accuracy: 0.9960\n",
            "Epoch 6/7\n",
            "938/938 [==============================] - 81s 86ms/step - loss: 0.0108 - accuracy: 0.9967\n",
            "Epoch 7/7\n",
            "938/938 [==============================] - 87s 93ms/step - loss: 0.0089 - accuracy: 0.9973\n"
          ]
        },
        {
          "output_type": "execute_result",
          "data": {
            "text/plain": [
              "<keras.src.callbacks.History at 0x7f26eac473a0>"
            ]
          },
          "metadata": {},
          "execution_count": 6
        }
      ]
    },
    {
      "cell_type": "markdown",
      "source": [
        "Epoch 1/7\n",
        "938/938 [==============================] - 90s 94ms/step - loss: 0.1440 - accuracy: 0.9549\n",
        "Epoch 2/7\n",
        "938/938 [==============================] - 81s 87ms/step - loss: 0.0423 - accuracy: 0.9869\n",
        "Epoch 3/7\n",
        "938/938 [==============================] - 81s 87ms/step - loss: 0.0281 - accuracy: 0.9912\n",
        "Epoch 4/7\n",
        "938/938 [==============================] - 82s 87ms/step - loss: 0.0195 - accuracy: 0.9940\n",
        "Epoch 5/7\n",
        "938/938 [==============================] - 81s 87ms/step - loss: 0.0146 - accuracy: 0.9960\n",
        "Epoch 6/7\n",
        "938/938 [==============================] - 81s 86ms/step - loss: 0.0108 - accuracy: 0.9967\n",
        "Epoch 7/7\n",
        "938/938 [==============================] - 87s 93ms/step - loss: 0.0089 - accuracy: 0.9973\n",
        "<keras.src.callbacks.History at 0x7f26eac473a0>"
      ],
      "metadata": {
        "id": "3dOf5HlSMwGA"
      }
    },
    {
      "cell_type": "code",
      "source": [
        "model.evaluate(test_images, test_labels)"
      ],
      "metadata": {
        "colab": {
          "base_uri": "https://localhost:8080/"
        },
        "id": "-bspBIbTMoyS",
        "outputId": "8974e814-7f3c-4ea4-a70e-7181d2b044fd"
      },
      "execution_count": 7,
      "outputs": [
        {
          "output_type": "stream",
          "name": "stdout",
          "text": [
            "313/313 [==============================] - 5s 12ms/step - loss: 0.0296 - accuracy: 0.9928\n"
          ]
        },
        {
          "output_type": "execute_result",
          "data": {
            "text/plain": [
              "[0.029616372659802437, 0.9927999973297119]"
            ]
          },
          "metadata": {},
          "execution_count": 7
        }
      ]
    },
    {
      "cell_type": "markdown",
      "source": [
        "313/313 [==============================] - 5s 12ms/step - loss: 0.0296 - accuracy: 0.9928\n",
        "[0.029616372659802437, 0.9927999973297119]"
      ],
      "metadata": {
        "id": "mNEb9_thMyU-"
      }
    }
  ],
  "metadata": {
    "kernelspec": {
      "display_name": "Python 3",
      "language": "python",
      "name": "python3"
    },
    "language_info": {
      "codemirror_mode": {
        "name": "ipython",
        "version": 3
      },
      "file_extension": ".py",
      "mimetype": "text/x-python",
      "name": "python",
      "nbconvert_exporter": "python",
      "pygments_lexer": "ipython3",
      "version": "3.11.5"
    },
    "orig_nbformat": 4,
    "colab": {
      "provenance": []
    }
  },
  "nbformat": 4,
  "nbformat_minor": 0
}