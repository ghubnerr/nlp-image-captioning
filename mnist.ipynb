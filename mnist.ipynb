{
  "cells": [
    {
      "cell_type": "code",
      "execution_count": 1,
      "metadata": {
        "id": "QmCVKlCHEPCe"
      },
      "outputs": [],
      "source": [
        "import tensorflow as tf\n",
        "import numpy as np\n",
        "from tensorflow.keras.models import Sequential\n",
        "from tensorflow.keras.layers import Dense, Dropout, Flatten, Conv2D, MaxPooling2D"
      ]
    },
    {
      "cell_type": "code",
      "execution_count": 2,
      "metadata": {
        "id": "py53YaLHEPCi",
        "outputId": "85e8d94c-c706-4561-cbcb-c3cbaf8281c2",
        "colab": {
          "base_uri": "https://localhost:8080/"
        }
      },
      "outputs": [
        {
          "output_type": "stream",
          "name": "stdout",
          "text": [
            "Downloading data from https://storage.googleapis.com/tensorflow/tf-keras-datasets/mnist.npz\n",
            "11490434/11490434 [==============================] - 0s 0us/step\n"
          ]
        }
      ],
      "source": [
        "from keras.datasets import mnist\n",
        "(train_images, train_labels), (test_images, test_labels) = mnist.load_data() # Load data"
      ]
    },
    {
      "cell_type": "code",
      "execution_count": 3,
      "metadata": {
        "id": "1MZeJ3HhEPCi"
      },
      "outputs": [],
      "source": [
        "train_images = train_images.reshape((60000,28,28,1)) # BATCH SIZE, HEIGHT, WIDTH, CHANNELS\n",
        "train_images = train_images.astype('float32')/255 # NORMALIZE DATA TO 0-1 RANGE (GREYSCALE)\n",
        "\n",
        "test_images = test_images.reshape((10000,28,28,1))\n",
        "test_images = test_images.astype('float32')/255"
      ]
    },
    {
      "cell_type": "code",
      "execution_count": 4,
      "metadata": {
        "id": "v6P1FjrfEPCj"
      },
      "outputs": [],
      "source": [
        "from tensorflow.keras.utils import to_categorical\n",
        "\n",
        "train_labels = to_categorical(train_labels) # ONE-HOT ENCODE LABELS\n",
        "test_labels = to_categorical(test_labels)"
      ]
    },
    {
      "cell_type": "code",
      "execution_count": 5,
      "metadata": {
        "id": "XdULfFcCEPCj"
      },
      "outputs": [],
      "source": [
        "INPUT_SHAPE = (28,28,1) # HEIGHT, WIDTH, CHANNELS"
      ]
    },
    {
      "cell_type": "code",
      "execution_count": 14,
      "metadata": {
        "id": "DWBy5DWGEPCk"
      },
      "outputs": [],
      "source": [
        "# TEST METRICS:\n",
        "\n",
        "model = Sequential()\n",
        "model.add(Conv2D(32, (3,3), activation=\"relu\", input_shape=INPUT_SHAPE))\n",
        "model.add(MaxPooling2D((2,2)))\n",
        "model.add(Conv2D(64, (3,3), activation=\"relu\"))\n",
        "model.add(MaxPooling2D((2,2)))\n",
        "model.add(Conv2D(64, (3,3), activation=\"relu\"))\n",
        "model.add(Flatten())\n",
        "model.add(Dense(64,activation=\"relu\"))\n",
        "model.add(Dense(10,activation=\"softmax\"))\n",
        "\n",
        "# model.evaluate(test_images, test_labels)"
      ]
    },
    {
      "cell_type": "code",
      "source": [
        "model.compile(optimizer = \"rmsprop\", loss = \"categorical_crossentropy\", metrics = [\"accuracy\"])\n",
        "model.fit(train_images, train_labels, batch_size = 64, epochs = 7)\n",
        "#model.evaluate(test_)\n",
        "\n",
        "#batch size = 64."
      ],
      "metadata": {
        "id": "Am9WfnerHamp",
        "outputId": "f9b5cb05-435a-4fee-9329-3bbc5081257e",
        "colab": {
          "base_uri": "https://localhost:8080/"
        }
      },
      "execution_count": 18,
      "outputs": [
        {
          "output_type": "stream",
          "name": "stdout",
          "text": [
            "Epoch 1/7\n",
            "938/938 [==============================] - 50s 53ms/step - loss: 0.0428 - accuracy: 0.9868\n",
            "Epoch 2/7\n",
            "938/938 [==============================] - 49s 52ms/step - loss: 0.0307 - accuracy: 0.9908\n",
            "Epoch 3/7\n",
            "938/938 [==============================] - 50s 53ms/step - loss: 0.0237 - accuracy: 0.9926\n",
            "Epoch 4/7\n",
            "938/938 [==============================] - 52s 56ms/step - loss: 0.0181 - accuracy: 0.9945\n",
            "Epoch 5/7\n",
            "938/938 [==============================] - 49s 52ms/step - loss: 0.0145 - accuracy: 0.9954\n",
            "Epoch 6/7\n",
            "938/938 [==============================] - 47s 50ms/step - loss: 0.0119 - accuracy: 0.9966\n",
            "Epoch 7/7\n",
            "938/938 [==============================] - 49s 52ms/step - loss: 0.0099 - accuracy: 0.9968\n"
          ]
        },
        {
          "output_type": "execute_result",
          "data": {
            "text/plain": [
              "<keras.src.callbacks.History at 0x7a5a831d06d0>"
            ]
          },
          "metadata": {},
          "execution_count": 18
        }
      ]
    },
    {
      "cell_type": "code",
      "source": [
        "\n",
        "model.evaluate(test_images,test_labels)"
      ],
      "metadata": {
        "id": "PJbFaIKEKA63",
        "outputId": "98c24eed-87af-40b2-a09a-60a0f6d7317b",
        "colab": {
          "base_uri": "https://localhost:8080/"
        }
      },
      "execution_count": 19,
      "outputs": [
        {
          "output_type": "stream",
          "name": "stdout",
          "text": [
            "313/313 [==============================] - 3s 9ms/step - loss: 0.0403 - accuracy: 0.9912\n"
          ]
        },
        {
          "output_type": "execute_result",
          "data": {
            "text/plain": [
              "[0.04030456393957138, 0.9911999702453613]"
            ]
          },
          "metadata": {},
          "execution_count": 19
        }
      ]
    },
    {
      "cell_type": "code",
      "source": [
        "import matplotlib.pyplot as plt\n",
        "import random\n",
        "\n",
        "test_image_index = random.randrange(0, len(test_images))\n",
        "plt.imshow(test_images[test_image_index], cmap='gray')  # Use 'gray' colormap for grayscale images\n",
        "plt.title(f'MNIST Image - Label: {test_labels[test_image_index]}')\n",
        "plt.axis('off')\n",
        "plt.show()\n"
      ],
      "metadata": {
        "id": "WgQUvxNSLFkz",
        "outputId": "035e0b82-348e-4e80-f352-230785d0601e",
        "colab": {
          "base_uri": "https://localhost:8080/",
          "height": 428
        }
      },
      "execution_count": 21,
      "outputs": [
        {
          "output_type": "display_data",
          "data": {
            "text/plain": [
              "<Figure size 640x480 with 1 Axes>"
            ],
            "image/png": "[encoded data removed]"
          },
          "metadata": {}
        }
      ]
    },
    {
      "cell_type": "code",
      "source": [
        "print(f\"Model Predicts that the number is a: {np.argmax(model.predict(test_images[test_image_index].reshape(1,28,28,1)))}\")"
      ],
      "metadata": {
        "id": "4R4aTJ9VLfAQ",
        "outputId": "48867c01-1f46-4bee-ad88-2f8fa3267536",
        "colab": {
          "base_uri": "https://localhost:8080/"
        }
      },
      "execution_count": 23,
      "outputs": [
        {
          "output_type": "stream",
          "name": "stdout",
          "text": [
            "1/1 [==============================] - 0s 22ms/step\n",
            "Model Predicts that the number is a: 5\n"
          ]
        }
      ]
    }
  ],
  "metadata": {
    "kernelspec": {
      "display_name": "Python 3",
      "language": "python",
      "name": "python3"
    },
    "language_info": {
      "codemirror_mode": {
        "name": "ipython",
        "version": 3
      },
      "file_extension": ".py",
      "mimetype": "text/x-python",
      "name": "python",
      "nbconvert_exporter": "python",
      "pygments_lexer": "ipython3",
      "version": "3.11.5"
    },
    "orig_nbformat": 4,
    "colab": {
      "provenance": []
    }
  },
  "nbformat": 4,
  "nbformat_minor": 0
}